{
  "cells": [
    {
      "cell_type": "markdown",
      "metadata": {
        "id": "VPtexQs5n25X"
      },
      "source": [
        "\n",
        "\n",
        "\\begin{align}\n",
        "\\text{\n",
        "EC-387: ECONOMÍA MATEMÁTICA I }\\\\\\\n",
        "\\textbf{Sir Bernabé Huamanculí} \\\\\\\n",
        "Intrducción \\ a **Python**\n",
        "\\end{align}\n",
        "\n"
      ]
    },
    {
      "cell_type": "markdown",
      "metadata": {
        "id": "V0IEYIwmmDP1"
      },
      "source": [
        " # LIBRERÍAS QUE SE USA PARA EL ANÁLISIS NUMÉRICO\n",
        " ## Numpay\n",
        " Es la biblioteca fundamental para computación numérica en Python. Proporciona estructuras de datos como arrays y matrices, así como funciones para operaciones matriciales y numéricas eficientes.\n",
        " ## SciPy\n",
        " Construida sobre NumPy, SciPy amplía sus capacidades y ofrece funciones adicionales para optimización, estadísticas, álgebra lineal, entre otros.\n",
        " ## Pandas\n",
        " Aunque es conocida principalmente por su capacidad para manipulación y análisis de datos, Pandas incluye funcionalidades para operaciones matriciales y manipulación de series temporales.\n",
        " ## Matplotlib\n",
        " Una biblioteca para la creación de gráficos y visualizaciones en 2D y 3D. Es comúnmente utilizada junto con NumPy para representar resultados de análisis numérico.\n",
        "## SymPy\n",
        " Una biblioteca para matemáticas simbólicas. Útil para realizar cálculos simbólicos, algebraicos y manipulaciones de expresiones matemáticas.\n",
        "\n",
        " **Estas bibliotecas son esenciales para el análisis numérico y matricial en Python, y su combinación proporciona un conjunto completo de herramientas para diversos propósitos en ciencia de datos, ingeniería y análisis cuantitativo.**"
      ]
    },
    {
      "cell_type": "markdown",
      "metadata": {
        "id": "VaNRxqYIAFSH"
      },
      "source": [
        "## **Primero se debe importar las siguientes paquetes o las librerías**"
      ]
    },
    {
      "cell_type": "code",
      "execution_count": 1,
      "metadata": {
        "id": "fht6yD1lo6IE"
      },
      "outputs": [
        {
          "name": "stderr",
          "output_type": "stream",
          "text": [
            "c:\\Users\\Lenovo\\anaconda3\\Lib\\site-packages\\pandas\\core\\arrays\\masked.py:60: UserWarning: Pandas requires version '1.3.6' or newer of 'bottleneck' (version '1.3.5' currently installed).\n",
            "  from pandas.core import (\n"
          ]
        }
      ],
      "source": [
        "#!apt-get install texlive-xetex\n",
        "import numpy as np # importando librería numpay como np\n",
        "import scipy\n",
        "import pandas as pd\n",
        "import matplotlib.pyplot as plt\n",
        "import sympy as sp"
      ]
    },
    {
      "cell_type": "markdown",
      "metadata": {
        "id": "Ms-cvk8kxc3s"
      },
      "source": [
        "# Matriz Entidad y Operaciones de matrices y multiplicación por un escalar"
      ]
    },
    {
      "cell_type": "code",
      "execution_count": null,
      "metadata": {
        "colab": {
          "base_uri": "https://localhost:8080/"
        },
        "id": "G6mYfdJ6xPL8",
        "outputId": "f7618395-d331-49f2-d94c-62a77b2fb360"
      },
      "outputs": [
        {
          "data": {
            "text/plain": [
              "array([[1., 0., 0.],\n",
              "       [0., 1., 0.],\n",
              "       [0., 0., 1.]])"
            ]
          },
          "execution_count": 17,
          "metadata": {},
          "output_type": "execute_result"
        }
      ],
      "source": [
        "A = np.identity(3)\n",
        "A"
      ]
    },
    {
      "cell_type": "code",
      "execution_count": null,
      "metadata": {
        "colab": {
          "base_uri": "https://localhost:8080/"
        },
        "id": "v-VbYAmFxuoA",
        "outputId": "008c5c8a-7443-4638-da0f-31a6d1960998"
      },
      "outputs": [
        {
          "data": {
            "text/plain": [
              "array([[1., 1., 1.],\n",
              "       [1., 1., 1.],\n",
              "       [1., 1., 1.]])"
            ]
          },
          "execution_count": 18,
          "metadata": {},
          "output_type": "execute_result"
        }
      ],
      "source": [
        "B = np.ones((3, 3))\n",
        "B"
      ]
    },
    {
      "cell_type": "markdown",
      "metadata": {
        "id": "11b0mDPsoRY8"
      },
      "source": [
        "multiplicamos por un escalar 2 a matriz A"
      ]
    },
    {
      "cell_type": "code",
      "execution_count": null,
      "metadata": {
        "colab": {
          "base_uri": "https://localhost:8080/"
        },
        "id": "Ylq0a3JTx7Xo",
        "outputId": "96e716af-d468-4b80-c88d-4fe5846c7cfc"
      },
      "outputs": [
        {
          "name": "stdout",
          "output_type": "stream",
          "text": [
            "[[2. 0. 0.]\n",
            " [0. 2. 0.]\n",
            " [0. 0. 2.]]\n"
          ]
        }
      ],
      "source": [
        "C=2*A\n",
        "C\n",
        "print(C)"
      ]
    },
    {
      "cell_type": "markdown",
      "metadata": {
        "id": "e7RV6w8uzBw4"
      },
      "source": [
        "Multiplicación"
      ]
    },
    {
      "cell_type": "code",
      "execution_count": null,
      "metadata": {
        "colab": {
          "base_uri": "https://localhost:8080/"
        },
        "id": "rlbpfQdTyZoJ",
        "outputId": "fe415518-167e-4116-94c9-6f835a27e9dd"
      },
      "outputs": [
        {
          "data": {
            "text/plain": [
              "array([[2., 2., 2.],\n",
              "       [2., 2., 2.],\n",
              "       [2., 2., 2.]])"
            ]
          },
          "execution_count": 21,
          "metadata": {},
          "output_type": "execute_result"
        }
      ],
      "source": [
        "C@B"
      ]
    },
    {
      "cell_type": "markdown",
      "metadata": {
        "id": "gCrJnCK3y-7i"
      },
      "source": [
        "Transpuesta"
      ]
    },
    {
      "cell_type": "code",
      "execution_count": null,
      "metadata": {
        "colab": {
          "base_uri": "https://localhost:8080/"
        },
        "id": "yjBBScOxy5-E",
        "outputId": "39e955a8-588b-4a05-c817-dd01bb0e56ab"
      },
      "outputs": [
        {
          "data": {
            "text/plain": [
              "array([[1., 0., 0.],\n",
              "       [0., 1., 0.],\n",
              "       [0., 0., 1.]])"
            ]
          },
          "execution_count": 24,
          "metadata": {},
          "output_type": "execute_result"
        }
      ],
      "source": [
        "F=A.T\n",
        "F"
      ]
    },
    {
      "cell_type": "markdown",
      "metadata": {
        "id": "nOSUplZS41R8"
      },
      "source": [
        "Tamaño de la matriz"
      ]
    },
    {
      "cell_type": "code",
      "execution_count": null,
      "metadata": {
        "colab": {
          "base_uri": "https://localhost:8080/"
        },
        "id": "iOmQhcm_pSUE",
        "outputId": "df9f5c51-708d-44ff-d3af-786ab52b6209"
      },
      "outputs": [
        {
          "data": {
            "text/plain": [
              "3"
            ]
          },
          "execution_count": 25,
          "metadata": {},
          "output_type": "execute_result"
        }
      ],
      "source": [
        "len(A) # para contar los elementos"
      ]
    },
    {
      "cell_type": "code",
      "execution_count": null,
      "metadata": {
        "colab": {
          "base_uri": "https://localhost:8080/"
        },
        "id": "36QzHFXY450b",
        "outputId": "44706fdf-b205-45ff-8c83-04dc765ba298"
      },
      "outputs": [
        {
          "data": {
            "text/plain": [
              "(3, 3)"
            ]
          },
          "execution_count": 26,
          "metadata": {},
          "output_type": "execute_result"
        }
      ],
      "source": [
        "A.shape # tamaño de una matriz"
      ]
    },
    {
      "cell_type": "markdown",
      "metadata": {
        "id": "kFRliReevAFn"
      },
      "source": [
        "# Hallando determinante, traza, y rango de una matriz\n",
        "\\begin{align}\n",
        "            A=\n",
        "            \\begin{bmatrix}\n",
        "                    2 & 3 & -1 \\\\\n",
        "                    4 & 1 & 2 \\\\\n",
        "                    1 & -2 & 1\n",
        "            \\end{bmatrix}\n",
        "\\end{align}"
      ]
    },
    {
      "cell_type": "code",
      "execution_count": null,
      "metadata": {
        "colab": {
          "base_uri": "https://localhost:8080/"
        },
        "id": "bXSblTm6u9zQ",
        "outputId": "72cb799c-9ade-4e08-dc77-075300f5ad05"
      },
      "outputs": [
        {
          "name": "stdout",
          "output_type": "stream",
          "text": [
            "Determinante: 13.0\n",
            "Traza: 4\n",
            "Rango: 3\n",
            "Inversa: [[ 0.38 -0.08  0.54]\n",
            " [-0.15  0.23 -0.62]\n",
            " [-0.69  0.54 -0.77]]\n"
          ]
        }
      ],
      "source": [
        "# Define la matriz de coeficientes\n",
        "A = np.array([[2, 3, -1],\n",
        "              [4, 1,  2],\n",
        "              [1, -2, 1]])\n",
        "\n",
        "# Calcula el determinante de la matriz\n",
        "determinante = np.linalg.det(A)\n",
        "\n",
        "# Calcula la traza de la matriz\n",
        "traza = np.trace(A)\n",
        "\n",
        "# Calcula el rango de la matriz\n",
        "rango = np.linalg.matrix_rank(A)\n",
        "\n",
        "# Calculamos la inversa\n",
        "invA = np.linalg.inv(A)\n",
        "# Redondeamos a dos decimales\n",
        "invA = np.round(invA, 2)\n",
        "\n",
        "# Imprime los resultados\n",
        "print(f\"Determinante: {determinante}\")\n",
        "print(f\"Traza: {traza}\")\n",
        "print(f\"Rango: {rango}\")\n",
        "print(f\"Inversa:\", invA)"
      ]
    },
    {
      "cell_type": "markdown",
      "metadata": {
        "id": "CZjre5v1uDbQ"
      },
      "source": [
        "#Sistema de ecuaciones lineales\n",
        "\n",
        "Considere el siguiente sistema de ecuaciones lineales:\n",
        "\n",
        "\\begin{align*}\n",
        "a_{11}x_1 + a_{12}x_2 + \\dots + a_{1n}x_n &= b_1 & \\\\\n",
        "a_{21}x_1 + a_{22}x_2 + \\dots + a_{2n}x_n &= b_2 & \\\\\n",
        "\\vdots \\qquad \\vdots   \\qquad\\dots  \\qquad \\vdots \\qquad \\vdots \\\\\n",
        "a_{m1}x_1 + a_{m2}x_2 + \\dots + a_{mn}x_n &= b_m &\n",
        "\\end{align*}\n",
        "\n",
        "##De forma Matricial\n",
        "\\begin{align*}\n",
        "\\begin{pmatrix}\n",
        "    a_{11} & \\dots & a_{1n} \\\\\n",
        "    \\vdots & \\ddots & \\vdots \\\\\n",
        "    a_{m1} & \\dots & a_{mn}\n",
        "\\end{pmatrix} \\begin{pmatrix}\n",
        "    x_1 \\\\\n",
        "    \\vdots \\\\\n",
        "    x_n\n",
        "\\end{pmatrix} = \\begin{pmatrix}\n",
        "    b_1 \\\\\n",
        "    \\vdots \\\\\n",
        "    b_m\n",
        "\\end{pmatrix}\n",
        "\\end{align*}\n",
        "\\\n",
        "\\begin{align}\n",
        "  Ax=b\n",
        "\\end{align}\n",
        "\\\n",
        "\\begin{align}\n",
        "  \\text{ donde $A$ es la matriz de coeficientes, $x$ es el vector de incógnitas y $b$ es el vector de términos independientes}\n",
        "\\end{align}\n",
        "## Ejemplo:\n",
        "\n",
        "\\begin{align*}\n",
        "    2x + 3y &= 8 \\\\\n",
        "    4x - 2y &= 6\n",
        "\\end{align*}\n",
        "#Usando **numpy**"
      ]
    },
    {
      "cell_type": "markdown",
      "metadata": {
        "id": "G6agUjG0cqnA"
      },
      "source": [
        "#Caso Especial"
      ]
    },
    {
      "cell_type": "markdown",
      "metadata": {
        "id": "qEywxKF9w1qr"
      },
      "source": [
        "\\begin{align}\n",
        "  x + 3y = 3 \\\\\n",
        "  2x + 6y = -8\n",
        "\\end{align}\n"
      ]
    },
    {
      "cell_type": "code",
      "execution_count": null,
      "metadata": {
        "colab": {
          "base_uri": "https://localhost:8080/",
          "height": 430
        },
        "id": "W1TFzKlacpYN",
        "outputId": "b97f2144-8676-45ed-94b9-090f80d85833"
      },
      "outputs": [
        {
          "data": {
            "image/png": "[encoded data removed]",
            "text/plain": [
              "<Figure size 640x480 with 1 Axes>"
            ]
          },
          "metadata": {},
          "output_type": "display_data"
        }
      ],
      "source": [
        "fig, ax = plt.subplots()\n",
        "x = np.linspace(-10, 10)\n",
        "plt.plot(x, (3-x)/3, label=f'$x + 3y = 3$')\n",
        "plt.plot(x, (-8-2*x)/6, label=f'$2x + 6y = -8$')\n",
        "plt.legend()\n",
        "plt.show()"
      ]
    },
    {
      "cell_type": "code",
      "execution_count": null,
      "metadata": {
        "colab": {
          "base_uri": "https://localhost:8080/"
        },
        "id": "DD51LkBAnoSQ",
        "outputId": "9f515200-875d-48e1-c7bf-ad12cbed92b5"
      },
      "outputs": [
        {
          "name": "stdout",
          "output_type": "stream",
          "text": [
            "La solución del sistema de ecuaciones es: [ 5. -2. -5.]\n"
          ]
        }
      ],
      "source": [
        "\n",
        "\n",
        "# Define los coeficientes de las ecuaciones en forma de matriz\n",
        "# Ax = B, donde A es la matriz de coeficientes, x es el vector de incógnitas y B es el vector de términos independientes\n",
        "A = np.array([[2, 3, -1],\n",
        "              [4, 1,  2],\n",
        "              [1, -2, 1]])\n",
        "\n",
        "B = np.array([9, 8, 4])\n",
        "\n",
        "# Utiliza la función np.linalg.solve para resolver el sistema de ecuaciones lineales\n",
        "solucion = np.linalg.solve(A, B)\n",
        "\n",
        "# Imprime la solución\n",
        "print(\"La solución del sistema de ecuaciones es:\", solucion)\n"
      ]
    },
    {
      "cell_type": "code",
      "execution_count": null,
      "metadata": {
        "id": "RJ8_G6uus4Hn"
      },
      "outputs": [],
      "source": [
        "# Define los coeficientes de las ecuaciones en forma de matriz\n",
        "A = np.array([[2, 3, -1],\n",
        "              [4, 1,  2],\n",
        "              [1, -2, 1]])\n",
        "\n",
        "B = np.array([9, 8, 4])\n",
        "\n",
        "# Resuelve el sistema de ecuaciones lineales\n",
        "solucion = solve(A, B)\n",
        "\n",
        "# Crea un DataFrame de Pandas para mostrar los resultados\n",
        "columnas = ['x', 'y', 'z']\n",
        "resultado_df = pd.DataFrame([solucion], columns=columnas)\n",
        "\n",
        "# Imprime el DataFrame con la solución\n",
        "print(\"La solución del sistema de ecuaciones es:\")\n",
        "print(resultado_df)\n"
      ]
    },
    {
      "cell_type": "markdown",
      "metadata": {
        "id": "K7ZNhRaDt2AP"
      },
      "source": [
        "#Usando **Sympy**"
      ]
    },
    {
      "cell_type": "code",
      "execution_count": null,
      "metadata": {
        "colab": {
          "base_uri": "https://localhost:8080/"
        },
        "id": "Ui_eRUU0tr4E",
        "outputId": "2fce1ba9-73d0-4a1f-db68-174b7cce45fe"
      },
      "outputs": [
        {
          "name": "stdout",
          "output_type": "stream",
          "text": [
            "La solución del sistema de ecuaciones es:\n",
            "{x: 5, y: -2, z: -5}\n"
          ]
        }
      ],
      "source": [
        "from sympy import symbols, Eq, solve\n",
        "\n",
        "# Define las variables simbólicas\n",
        "x, y, z = symbols('x y z')\n",
        "\n",
        "# Define las ecuaciones\n",
        "ecuacion1 = Eq(2*x + 3*y - z, 9)\n",
        "ecuacion2 = Eq(4*x + y + 2*z, 8)\n",
        "ecuacion3 = Eq(x - 2*y + z, 4)\n",
        "\n",
        "# Resuelve el sistema de ecuaciones\n",
        "solucion = solve((ecuacion1, ecuacion2, ecuacion3), (x, y, z))\n",
        "\n",
        "# Imprime la solución\n",
        "print(\"La solución del sistema de ecuaciones es:\")\n",
        "print(solucion)\n"
      ]
    },
    {
      "cell_type": "markdown",
      "metadata": {
        "id": "cDE3RhvLIXSR"
      },
      "source": [
        "#Método de Cramer"
      ]
    },
    {
      "cell_type": "code",
      "execution_count": null,
      "metadata": {
        "colab": {
          "base_uri": "https://localhost:8080/"
        },
        "id": "Fl-E6KzbIWSP",
        "outputId": "efd0a28c-fbe1-48e2-b121-ed4585b85a25"
      },
      "outputs": [
        {
          "name": "stdout",
          "output_type": "stream",
          "text": [
            "x =  4.999999999999999\n",
            "y =  -1.9999999999999991\n",
            "z =  -5.0000000000000036\n"
          ]
        }
      ],
      "source": [
        "import numpy as np\n",
        "\n",
        "A = np.array([[2, 3, -1],\n",
        "              [4, 1, 2],\n",
        "              [1, -2, 1]])\n",
        "\n",
        "B = np.array([9, 8, 4])\n",
        "\n",
        "# Calculamos el determinante de la matriz de coeficientes\n",
        "detA = np.linalg.det(A)\n",
        "\n",
        "# Calculamos los determinantes de las matrices de coeficientes\n",
        "detB1 = np.linalg.det(np.array([[9, 3, -1],\n",
        "                                [8, 1, 2],\n",
        "                                [4, -2, 1]]))\n",
        "\n",
        "detB2 = np.linalg.det(np.array([[2, 9, -1],\n",
        "                                [4, 8, 2],\n",
        "                                [1, 4, 1]]))\n",
        "\n",
        "detB3 = np.linalg.det(np.array([[2, 3, 9],\n",
        "                                [4, 1, 8],\n",
        "                                [1, -2, 4]]))\n",
        "\n",
        "# Resolvemos el sistema de ecuaciones\n",
        "x = detB1 / detA\n",
        "y = detB2 / detA\n",
        "z = detB3 / detA\n",
        "\n",
        "print(\"x = \", x)\n",
        "print(\"y = \", y)\n",
        "print(\"z = \", z)\n"
      ]
    },
    {
      "cell_type": "code",
      "execution_count": null,
      "metadata": {
        "colab": {
          "base_uri": "https://localhost:8080/"
        },
        "id": "TMqp9O9QKC1h",
        "outputId": "5f6b6539-0347-45e0-9cca-8702d8fc30f9"
      },
      "outputs": [
        {
          "data": {
            "text/plain": [
              "5.0"
            ]
          },
          "execution_count": 7,
          "metadata": {},
          "output_type": "execute_result"
        }
      ],
      "source": [
        "np.round(x,0)"
      ]
    },
    {
      "cell_type": "markdown",
      "metadata": {
        "id": "BmgRnBtxJrtr"
      },
      "source": [
        "# Otra manera de hacer Cramer"
      ]
    },
    {
      "cell_type": "code",
      "execution_count": null,
      "metadata": {
        "colab": {
          "base_uri": "https://localhost:8080/"
        },
        "id": "Z8GAy_moJlVI",
        "outputId": "835406c8-3566-4c09-b826-190060df2a0d"
      },
      "outputs": [
        {
          "name": "stdout",
          "output_type": "stream",
          "text": [
            "La solución del sistema de ecuaciones utilizando el método de Cramer es: [ 5. -2. -5.]\n"
          ]
        }
      ],
      "source": [
        "import numpy as np\n",
        "from scipy.linalg import det\n",
        "\n",
        "def cramer_solver(A, B):\n",
        "    n = len(A)\n",
        "    x = np.zeros(n)\n",
        "\n",
        "    # Calcula el determinante de la matriz de coeficientes principal\n",
        "    det_A = det(A)\n",
        "\n",
        "    if det_A == 0:\n",
        "        raise ValueError(\"El determinante de la matriz de coeficientes es cero. El sistema puede no tener solución única.\")\n",
        "\n",
        "    # Resuelve para cada variable utilizando el método de Cramer\n",
        "    for i in range(n):\n",
        "        # Crea una copia de la matriz de coeficientes y reemplaza la columna i con el vector de términos independientes\n",
        "        Ai = A.copy()\n",
        "        Ai[:, i] = B\n",
        "\n",
        "        # Calcula el determinante de la nueva matriz\n",
        "        det_Ai = det(Ai)\n",
        "\n",
        "        # Calcula la variable i-esima\n",
        "        x[i] = det_Ai / det_A\n",
        "\n",
        "    return x\n",
        "\n",
        "# Define la matriz de coeficientes y el vector de términos independientes\n",
        "A = np.array([[2, 3, -1],\n",
        "              [4, 1,  2],\n",
        "              [1, -2, 1]])\n",
        "\n",
        "B = np.array([9, 8, 4])\n",
        "\n",
        "# Resuelve el sistema utilizando el método de Cramer\n",
        "solucion_cramer = cramer_solver(A, B)\n",
        "\n",
        "# Imprime la solución\n",
        "print(\"La solución del sistema de ecuaciones utilizando el método de Cramer es:\", solucion_cramer)\n"
      ]
    },
    {
      "cell_type": "markdown",
      "metadata": {
        "id": "XwJHKkWRAvt0"
      },
      "source": [
        "## 1. Ejercicios aplicadas\n",
        "\n"
      ]
    },
    {
      "cell_type": "markdown",
      "metadata": {
        "id": "aQ56T1lAHF6b"
      },
      "source": [
        "## 1.1. Calcule los valores del siguiente arreglo"
      ]
    },
    {
      "cell_type": "code",
      "execution_count": 2,
      "metadata": {
        "colab": {
          "base_uri": "https://localhost:8080/",
          "height": 254
        },
        "id": "lAlfq6nDDtpT",
        "outputId": "21908ded-4488-452c-8f19-8f91f1b0bca6"
      },
      "outputs": [
        {
          "data": {
            "text/plain": [
              "array([-1.25,  2.5 , -0.75])"
            ]
          },
          "execution_count": 2,
          "metadata": {},
          "output_type": "execute_result"
        }
      ],
      "source": [
        "A=np.array([[2,3,4],\n",
        "            [4,5,6],\n",
        "            [7,6,7]])\n",
        "B=np.array([2, 3, 1])\n",
        "C=np.linalg.solve(A,B)\n",
        "C"
      ]
    },
    {
      "cell_type": "markdown",
      "metadata": {
        "id": "f0WTq-aOHXcW"
      },
      "source": [
        "##1.2. Dada el siguiente modelo de ingreso nacional:\n",
        "\n",
        "\\begin{align}\n",
        "        Y=C+I_0+G_0 \\\\\n",
        "        C=60+0.9(Y-T) \\\\\n",
        "        T=30+0.2Y \\\\\n",
        "  \\text{Donde $I_0=31$ y $G_0=20$, encuentre los valores de las variables endógenas utilizando matricial}\n",
        "\\end{align}\n"
      ]
    },
    {
      "cell_type": "markdown",
      "metadata": {
        "id": "7UzxxUdwLAQL"
      },
      "source": [
        "1.3. La demanda y oferta de dos bienes esta dado por:\n",
        "\\begin{align}\n",
        "            q_{d1}=53-2p_1 -3p_2 \\\\\n",
        "            q_{s1}=-4+3p_1 \\\\\n",
        "            \\\n",
        "            q_{d2}=64-3p_1-4p_2 \\\\\n",
        "            q_{s2}=-8+2p_2\n",
        "\\end{align}\n",
        "Utilice el enfoque matricial para determinar los precios y la cantidad de equilibrio(utiliza regla de Cramer)"
      ]
    },
    {
      "cell_type": "code",
      "execution_count": null,
      "metadata": {
        "colab": {
          "base_uri": "https://localhost:8080/"
        },
        "id": "kDa1fr8uL3Zv",
        "outputId": "bd741efc-6fd0-47b9-9c04-44b45839322d"
      },
      "outputs": [
        {
          "name": "stdout",
          "output_type": "stream",
          "text": [
            "Matriz Original:\n",
            " [[1 2 3]\n",
            " [4 5 6]\n",
            " [7 8 9]]\n",
            "\n",
            "Transpuesta:\n",
            " [[1 4 7]\n",
            " [2 5 8]\n",
            " [3 6 9]]\n"
          ]
        }
      ],
      "source": [
        "import numpy as np\n",
        "\n",
        "Z = np.array([[1, 2, 3], [4, 5, 6], [7, 8, 9]])\n",
        "\n",
        "# Calcular la transpuesta de la matriz\n",
        "transpuesta = np.transpose(Z)\n",
        "\n",
        "# Alternativamente, puedes usar el atributo T\n",
        "# transpuesta = Z.T\n",
        "\n",
        "# Imprimir la matriz original y su transpuesta\n",
        "print(\"Matriz Original:\\n\",Z)\n",
        "print(\"\\nTranspuesta:\\n\", transpuesta)\n"
      ]
    },
    {
      "cell_type": "code",
      "execution_count": null,
      "metadata": {
        "colab": {
          "base_uri": "https://localhost:8080/"
        },
        "id": "363mPR8SMI8X",
        "outputId": "c004aae2-9207-475f-bffa-87d257943cd5"
      },
      "outputs": [
        {
          "data": {
            "text/plain": [
              "array([[1, 4, 7],\n",
              "       [2, 5, 8],\n",
              "       [3, 6, 9]])"
            ]
          },
          "execution_count": 4,
          "metadata": {},
          "output_type": "execute_result"
        }
      ],
      "source": [
        "Z.T\n"
      ]
    }
  ],
  "metadata": {
    "colab": {
      "provenance": []
    },
    "kernelspec": {
      "display_name": "Python 3",
      "name": "python3"
    },
    "language_info": {
      "codemirror_mode": {
        "name": "ipython",
        "version": 3
      },
      "file_extension": ".py",
      "mimetype": "text/x-python",
      "name": "python",
      "nbconvert_exporter": "python",
      "pygments_lexer": "ipython3",
      "version": "3.11.4"
    }
  },
  "nbformat": 4,
  "nbformat_minor": 0
}
